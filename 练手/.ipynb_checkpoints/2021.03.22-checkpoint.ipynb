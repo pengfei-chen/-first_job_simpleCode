{
 "cells": [
  {
   "cell_type": "code",
   "execution_count": 3,
   "metadata": {},
   "outputs": [
    {
     "name": "stdout",
     "output_type": "stream",
     "text": [
      "8 3\n",
      "1 3 -1 -3 5 3 6 7\n"
     ]
    },
    {
     "data": {
      "text/plain": [
       "'1.0 -1.0 -1.0 3.0 5.0 6.0 '"
      ]
     },
     "execution_count": 3,
     "metadata": {},
     "output_type": "execute_result"
    }
   ],
   "source": [
    "import statistics\n",
    "a,b = [int(i) for i in input().split()]\n",
    "lst = [int(i) for i in input().split()]\n",
    "\n",
    "result = ''\n",
    "for i in range(a-(b-1)):\n",
    "    use = lst[i:i+b]\n",
    "    ans = round(float(statistics.median(use)),2)\n",
    "    result += str(ans) + ' '\n",
    "result"
   ]
  },
  {
   "cell_type": "code",
   "execution_count": 19,
   "metadata": {},
   "outputs": [
    {
     "data": {
      "text/plain": [
       "[3]"
      ]
     },
     "execution_count": 19,
     "metadata": {},
     "output_type": "execute_result"
    }
   ],
   "source": [
    "# 求中位数\n",
    "def get_median(use):\n",
    "    if len(use) % 2 == 1:\n",
    "        start = len(use) // 2\n",
    "        end = start + 1\n",
    "        ans = use[start:end]\n",
    "    else:\n",
    "        start = len(use) // 2\n",
    "        end = start + 1\n",
    "        use_1 = use[start-1:end]\n",
    "        ans = round(sum(use_1)/2, 2)\n",
    "    return ans\n",
    "use = [1,2,3,4,5]\n",
    "get_median(use)"
   ]
  },
  {
   "cell_type": "markdown",
   "metadata": {},
   "source": [
    "中位数：按顺序排列的一组数据中居于中间位置的数"
   ]
  },
  {
   "cell_type": "code",
   "execution_count": 29,
   "metadata": {},
   "outputs": [
    {
     "name": "stdout",
     "output_type": "stream",
     "text": [
      "8 3\n",
      "1 3 -1 -3 5 3 6 7\n"
     ]
    },
    {
     "data": {
      "text/plain": [
       "'1.0 -1.0 -1.0 3.0 5.0 6.0 '"
      ]
     },
     "execution_count": 29,
     "metadata": {},
     "output_type": "execute_result"
    }
   ],
   "source": [
    "a,b = [int(i) for i in input().split()]\n",
    "lst = [int(i) for i in input().split()]\n",
    "\n",
    "# 求中位数\n",
    "def get_median(use):\n",
    "    use.sort()\n",
    "    if len(use) % 2 == 1:\n",
    "        start = len(use) // 2\n",
    "        end = start + 1\n",
    "        ans = float(use[start:end][0])\n",
    "    else:\n",
    "        start = len(use) // 2\n",
    "        end = start + 1\n",
    "        use_1 = use[start-1:end]\n",
    "        ans = round(float(sum(use_1)/2), 2)\n",
    "    return ans\n",
    "\n",
    "result = ''\n",
    "for i in range(a-(b-1)):\n",
    "    use = lst[i:i+b]\n",
    "    ans = get_median(use)\n",
    "    result += str(ans) + ' '\n",
    "print(result)\n"
   ]
  },
  {
   "cell_type": "code",
   "execution_count": 21,
   "metadata": {},
   "outputs": [
    {
     "data": {
      "text/plain": [
       "1"
      ]
     },
     "execution_count": 21,
     "metadata": {},
     "output_type": "execute_result"
    }
   ],
   "source": [
    "statistics.median([1,3,-1])"
   ]
  },
  {
   "cell_type": "code",
   "execution_count": 22,
   "metadata": {},
   "outputs": [],
   "source": [
    "statistics.median??"
   ]
  },
  {
   "cell_type": "code",
   "execution_count": 26,
   "metadata": {},
   "outputs": [
    {
     "data": {
      "text/plain": [
       "[-1, 1, 3]"
      ]
     },
     "execution_count": 26,
     "metadata": {},
     "output_type": "execute_result"
    }
   ],
   "source": [
    "use = [1,3,-1]\n",
    "use.sort()"
   ]
  },
  {
   "cell_type": "code",
   "execution_count": 31,
   "metadata": {},
   "outputs": [
    {
     "name": "stdout",
     "output_type": "stream",
     "text": [
      "1900 2\n",
      "28\n",
      "\n"
     ]
    }
   ],
   "source": [
    "def get_month_year(x, y):\n",
    "    if y in [1, 3, 5, 7, 8, 10, 12]:\n",
    "        return 31\n",
    "    elif y in [4, 6, 9 ,11]:\n",
    "        return 30\n",
    "    elif y == 2 and (x%4 == 0 and x%100 !=0) or x%400==0:\n",
    "        return 29\n",
    "    else:\n",
    "        return 28\n",
    "while True:\n",
    "    try:\n",
    "        year, month = map(int,input().split())\n",
    "        print(get_month_year(year, month))\n",
    "    except:\n",
    "        break;"
   ]
  },
  {
   "cell_type": "code",
   "execution_count": 35,
   "metadata": {},
   "outputs": [
    {
     "name": "stdout",
     "output_type": "stream",
     "text": [
      "6 3\n",
      "3\n"
     ]
    }
   ],
   "source": [
    "m,n = [int(i) for i in input().split(' ')]\n",
    "ans = n**(m - n -2)\n",
    "print(ans)"
   ]
  },
  {
   "cell_type": "code",
   "execution_count": 38,
   "metadata": {},
   "outputs": [
    {
     "data": {
      "text/plain": [
       "42"
      ]
     },
     "execution_count": 38,
     "metadata": {},
     "output_type": "execute_result"
    }
   ],
   "source": [
    "5260 // 125"
   ]
  },
  {
   "cell_type": "code",
   "execution_count": null,
   "metadata": {},
   "outputs": [],
   "source": []
  },
  {
   "cell_type": "markdown",
   "metadata": {},
   "source": [
    "###  下午，动态规划"
   ]
  },
  {
   "cell_type": "code",
   "execution_count": 48,
   "metadata": {},
   "outputs": [
    {
     "data": {
      "text/plain": [
       "[[7], [3, 8], [8, 1, 0], [2, 7, 4, 4], [4, 5, 2, 6, 5]]"
      ]
     },
     "execution_count": 48,
     "metadata": {},
     "output_type": "execute_result"
    }
   ],
   "source": [
    "# 求从第一行到最底下一行，经过路劲上数的和最大的数值\n",
    "data = [[7],\n",
    "        [3,8],\n",
    "        [8,1,0],\n",
    "        [2,7,4,4],\n",
    "        [4,5,2,6,5]]\n",
    "data"
   ]
  },
  {
   "cell_type": "code",
   "execution_count": 7,
   "metadata": {},
   "outputs": [
    {
     "data": {
      "text/plain": [
       "7"
      ]
     },
     "execution_count": 7,
     "metadata": {},
     "output_type": "execute_result"
    }
   ],
   "source": [
    "data[3][1]"
   ]
  },
  {
   "cell_type": "code",
   "execution_count": 49,
   "metadata": {},
   "outputs": [
    {
     "name": "stdout",
     "output_type": "stream",
     "text": [
      "30\n"
     ]
    }
   ],
   "source": [
    "n = len(data)-1\n",
    "\n",
    "def MaxSum(i,j):\n",
    "    if i == n:\n",
    "        return data[i][j]\n",
    "    else:\n",
    "        x = data[i+1][j]\n",
    "        y = data[i+1][j+1]\n",
    "        return max(x,y) + data[i][j]\n",
    "\n",
    "\n",
    "for i in range(n)[::-1]:\n",
    "    for j in range(i+1)[::-1]:\n",
    "        data[i][j] = MaxSum(i,j)\n",
    "print(data[0][0])"
   ]
  },
  {
   "cell_type": "code",
   "execution_count": 50,
   "metadata": {},
   "outputs": [
    {
     "data": {
      "text/plain": [
       "[[30], [23, 21], [20, 13, 10], [7, 12, 10, 10], [4, 5, 2, 6, 5]]"
      ]
     },
     "execution_count": 50,
     "metadata": {},
     "output_type": "execute_result"
    }
   ],
   "source": [
    "data"
   ]
  },
  {
   "cell_type": "code",
   "execution_count": 54,
   "metadata": {},
   "outputs": [
    {
     "name": "stdout",
     "output_type": "stream",
     "text": [
      "8,4\n",
      "5\n"
     ]
    }
   ],
   "source": [
    "N, K = [int(x) for x in input().split(',')]\n",
    "\n",
    "def Data(N,k): #k拆分\n",
    "    if N<k:\n",
    "        return 0 #此时无法划分\n",
    "    else:\n",
    "        if k==1:\n",
    "            return 1\n",
    "        else:\n",
    "            D={}\n",
    "            D[0,0]=0\n",
    "            for i in range(1,N+1):\n",
    "                for j in range(1,min(i+1,k+1)):\n",
    "                    if j==1:\n",
    "                        D[i,j]=1\n",
    "                    else:\n",
    "                        D[i,j]=D[i-1,j-1] #D[i,j]=D[i-j,j]+D[i-1,j-1]\n",
    "                        if i>=2*j:        #意思是分割有两种情况：不包含1和包含1，当然可能不一定包含1\n",
    "                            D[i,j]+=D[i-j,j]\n",
    "            return D[N,k]\n",
    "print(Data(N,K))"
   ]
  },
  {
   "cell_type": "code",
   "execution_count": null,
   "metadata": {},
   "outputs": [],
   "source": []
  }
 ],
 "metadata": {
  "kernelspec": {
   "display_name": "Python 3",
   "language": "python",
   "name": "python3"
  },
  "language_info": {
   "codemirror_mode": {
    "name": "ipython",
    "version": 3
   },
   "file_extension": ".py",
   "mimetype": "text/x-python",
   "name": "python",
   "nbconvert_exporter": "python",
   "pygments_lexer": "ipython3",
   "version": "3.8.3"
  }
 },
 "nbformat": 4,
 "nbformat_minor": 4
}
