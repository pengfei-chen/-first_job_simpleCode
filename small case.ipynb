{
 "cells": [
  {
   "cell_type": "code",
   "execution_count": 2,
   "metadata": {
    "collapsed": true
   },
   "outputs": [
    {
     "data": {
      "text/plain": [
       "['广东区',\n",
       " '广州分公司',\n",
       " '三水经营中心',\n",
       " '三水富景仓',\n",
       " '贵溪市赛翔物流有限公司',\n",
       " '广州盛美卓越电器销售有限公司',\n",
       " '广州盛美卓越电器销售有限公司',\n",
       " '系统计费',\n",
       " '渠道',\n",
       " '家用空调事业部',\n",
       " '96932',\n",
       " '15038.52703',\n",
       " '2006185.98',\n",
       " '49631.66434',\n",
       " '49631.66434',\n",
       " '0',\n",
       " '0',\n",
       " '0',\n",
       " '0',\n",
       " '0',\n",
       " '43980.59786',\n",
       " '43980.59786',\n",
       " '0',\n",
       " '0',\n",
       " '0',\n",
       " '0',\n",
       " '0']"
      ]
     },
     "execution_count": 2,
     "metadata": {},
     "output_type": "execute_result"
    }
   ],
   "source": [
    "a = '广东区 广州分公司 三水经营中心 三水富景仓 贵溪市赛翔物流有限公司 广州盛美卓越电器销售有限公司 广州盛美卓越电器销售有限公司 系统计费 渠道 家用空调事业部 96932 15038.52703 2006185.98 49631.66434 49631.66434 0 0 0 0 0 43980.59786 43980.59786 0 0 0 0 0'\n",
    "_a = a.split(' ')\n",
    "_a"
   ]
  },
  {
   "cell_type": "code",
   "execution_count": 3,
   "metadata": {
    "collapsed": true
   },
   "outputs": [
    {
     "data": {
      "text/plain": [
       "['大区',\n",
       " '分公司',\n",
       " '平台名称',\n",
       " '仓库名称',\n",
       " '供应商',\n",
       " '订单客户名称',\n",
       " '结算客户名称',\n",
       " '系统来源',\n",
       " '客户类型名称',\n",
       " '事业部名称',\n",
       " '数量',\n",
       " '体积',\n",
       " '重量',\n",
       " '收入单价',\n",
       " '成本单价',\n",
       " '设备单价',\n",
       " '人员单价',\n",
       " '计费方式',\n",
       " '收入合计',\n",
       " '装卸收入',\n",
       " '设备费用',\n",
       " '扫码',\n",
       " '打包费',\n",
       " '理库费',\n",
       " '其他',\n",
       " '成本合计',\n",
       " '装卸成本',\n",
       " '设备费用',\n",
       " '扫码',\n",
       " '打包费',\n",
       " '理库费',\n",
       " '其他']"
      ]
     },
     "execution_count": 3,
     "metadata": {},
     "output_type": "execute_result"
    }
   ],
   "source": [
    "b = '大区 分公司 平台名称 仓库名称 供应商 订单客户名称 结算客户名称 系统来源 客户类型名称 事业部名称 数量 体积 重量 收入单价 成本单价 设备单价 人员单价 计费方式 收入合计 装卸收入 设备费用 扫码 打包费 理库费 其他 成本合计 装卸成本 设备费用 扫码 打包费 理库费 其他'\n",
    "_b = b.split(' ')\n",
    "_b"
   ]
  },
  {
   "cell_type": "code",
   "execution_count": 7,
   "metadata": {
    "scrolled": true
   },
   "outputs": [
    {
     "data": {
      "text/plain": [
       "{'大区': '广东区',\n",
       " '分公司': '广州分公司',\n",
       " '平台名称': '三水经营中心',\n",
       " '仓库名称': '三水富景仓',\n",
       " '供应商': '贵溪市赛翔物流有限公司',\n",
       " '订单客户名称': '广州盛美卓越电器销售有限公司',\n",
       " '结算客户名称': '广州盛美卓越电器销售有限公司',\n",
       " '系统来源': '系统计费',\n",
       " '客户类型名称': '渠道',\n",
       " '事业部名称': '家用空调事业部',\n",
       " '数量': '96932',\n",
       " '体积': '15038.52703',\n",
       " '重量': '2006185.98',\n",
       " '收入单价': '49631.66434',\n",
       " '成本单价': '49631.66434',\n",
       " '设备单价': '0',\n",
       " '人员单价': '0',\n",
       " '计费方式': '0',\n",
       " '收入合计': '0',\n",
       " '装卸收入': '0',\n",
       " '设备费用': '43980.59786',\n",
       " '扫码': '43980.59786',\n",
       " '打包费': '0',\n",
       " '理库费': '0',\n",
       " '其他': '0',\n",
       " '成本合计': '0',\n",
       " '装卸成本': '0'}"
      ]
     },
     "execution_count": 7,
     "metadata": {},
     "output_type": "execute_result"
    }
   ],
   "source": [
    "c = {}\n",
    "for i in range(len(_a)):\n",
    "    c[_b[i]] = _a[i]\n",
    "c"
   ]
  },
  {
   "cell_type": "code",
   "execution_count": 6,
   "metadata": {},
   "outputs": [
    {
     "data": {
      "text/plain": [
       "(32, 27)"
      ]
     },
     "execution_count": 6,
     "metadata": {},
     "output_type": "execute_result"
    }
   ],
   "source": [
    "len(_b),len(_a)"
   ]
  },
  {
   "cell_type": "code",
   "execution_count": null,
   "metadata": {},
   "outputs": [],
   "source": []
  }
 ],
 "metadata": {
  "kernelspec": {
   "display_name": "Python 3",
   "language": "python",
   "name": "python3"
  },
  "language_info": {
   "codemirror_mode": {
    "name": "ipython",
    "version": 3
   },
   "file_extension": ".py",
   "mimetype": "text/x-python",
   "name": "python",
   "nbconvert_exporter": "python",
   "pygments_lexer": "ipython3",
   "version": "3.7.6"
  }
 },
 "nbformat": 4,
 "nbformat_minor": 4
}
